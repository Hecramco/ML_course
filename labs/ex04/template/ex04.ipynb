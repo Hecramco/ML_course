{
 "cells": [
  {
   "cell_type": "code",
   "execution_count": 1,
   "metadata": {},
   "outputs": [],
   "source": [
    "# Useful starting lines\n",
    "%matplotlib inline\n",
    "import numpy as np\n",
    "import matplotlib.pyplot as plt\n",
    "%load_ext autoreload\n",
    "%autoreload 2\n",
    "from test_utils import test"
   ]
  },
  {
   "cell_type": "markdown",
   "metadata": {},
   "source": [
    "# Cross-Validation and Bias-Variance decomposition\n",
    "## Cross-Validation\n",
    "Implementing 4-fold cross-validation below:"
   ]
  },
  {
   "cell_type": "code",
   "execution_count": 2,
   "metadata": {},
   "outputs": [],
   "source": [
    "from helpers import load_data\n",
    "\n",
    "# load dataset\n",
    "x, y = load_data()"
   ]
  },
  {
   "cell_type": "code",
   "execution_count": 3,
   "metadata": {},
   "outputs": [],
   "source": [
    "def build_k_indices(y, k_fold, seed):\n",
    "    \"\"\"build k indices for k-fold.\n",
    "    \n",
    "    Args:\n",
    "        y:      shape=(N,)\n",
    "        k_fold: K in K-fold, i.e. the fold num\n",
    "        seed:   the random seed\n",
    "\n",
    "    Returns:\n",
    "        A 2D array of shape=(k_fold, N/k_fold) that indicates the data indices for each fold\n",
    "\n",
    "    >>> build_k_indices(np.array([1., 2., 3., 4.]), 2, 1)\n",
    "    array([[3, 2],\n",
    "           [0, 1]])\n",
    "    \"\"\"\n",
    "    num_row = y.shape[0]\n",
    "    interval = int(num_row / k_fold)\n",
    "    np.random.seed(seed)\n",
    "    indices = np.random.permutation(num_row)\n",
    "    k_indices = [indices[k * interval: (k + 1) * interval] for k in range(k_fold)]\n",
    "    return np.array(k_indices)"
   ]
  },
  {
   "cell_type": "code",
   "execution_count": 4,
   "metadata": {},
   "outputs": [
    {
     "name": "stdout",
     "output_type": "stream",
     "text": [
      "[[-5.68519390e-01 -1.50508406e-01  6.67509379e-01 -1.30763072e+00\n",
      "   1.28930361e+00 -2.68157012e-01  1.21879684e-01  9.94909022e-01]\n",
      " [-7.66467434e-01  7.27781486e-01  7.73288841e-01 -8.26518932e-01\n",
      "   9.51211821e-01  2.52524512e-01 -3.72595292e-01  7.69121860e-02]\n",
      " [-1.04670162e+00 -5.59911457e-01  6.05998553e-01  3.76102400e-02\n",
      "  -5.72305352e-01 -3.08575746e-01  3.05224230e-02  7.77071848e-01]\n",
      " [ 3.59152612e-01 -2.06807030e-01 -7.46011639e-01  8.33364051e-01\n",
      "   7.00138842e-01  4.37144573e-01 -1.29168955e+00 -1.06662741e+00]\n",
      " [-1.33397556e+00  7.22554859e-01 -7.37222919e-01  3.88647453e-01\n",
      "  -4.84226326e-01 -1.05814170e+00 -8.35127298e-01 -1.28027608e+00]\n",
      " [-1.41108000e-04  8.95549970e-02 -4.37345163e-01  5.38669461e-01\n",
      "  -3.01041920e-01  1.94693837e-01  2.22695473e-01  4.25144932e-01]]\n"
     ]
    }
   ],
   "source": [
    "index = build_k_indices(y, 6, 1)\n",
    "print(y[index])"
   ]
  },
  {
   "cell_type": "code",
   "execution_count": 5,
   "metadata": {},
   "outputs": [
    {
     "name": "stdout",
     "output_type": "stream",
     "text": [
      "✅ Your `build_k_indices` passes some basic tests.\n"
     ]
    }
   ],
   "source": [
    "test(build_k_indices)"
   ]
  },
  {
   "cell_type": "markdown",
   "metadata": {},
   "source": [
    "For the following cross_validation( ) function you need to implement, you can help yourselves of the build_poly( ) and ridge_regression( ) functions that you implemented in lab 3. Copy paste the code in the build_polynomial.py and ridge_regression.py files, they should pass the two following tests."
   ]
  },
  {
   "cell_type": "code",
   "execution_count": 6,
   "metadata": {},
   "outputs": [
    {
     "name": "stdout",
     "output_type": "stream",
     "text": [
      "✅ Your `build_poly` passes some basic tests.\n",
      "✅ Your `ridge_regression` passes some basic tests.\n"
     ]
    }
   ],
   "source": [
    "from costs import compute_mse\n",
    "from ridge_regression import ridge_regression\n",
    "from build_polynomial import build_poly\n",
    "\n",
    "\n",
    "test(build_poly)\n",
    "test(ridge_regression)"
   ]
  },
  {
   "cell_type": "code",
   "execution_count": 13,
   "metadata": {},
   "outputs": [],
   "source": [
    "from turtle import shape\n",
    "from numpy import zeros\n",
    "from costs import compute_mse\n",
    "\n",
    "\n",
    "def cross_validation(y, x, k_indices, k, lambda_, degree):\n",
    "    \"\"\"return the loss of ridge regression for a fold corresponding to k_indices\n",
    "    \n",
    "    Args:\n",
    "        y:          shape=(N,)\n",
    "        x:          shape=(N,)\n",
    "        k_indices:  2D array returned by build_k_indices()\n",
    "        k:          scalar, the k-th fold (N.B.: not to confused with k_fold which is the fold nums)\n",
    "        lambda_:    scalar, cf. ridge_regression()\n",
    "        degree:     scalar, cf. build_poly()\n",
    "\n",
    "    Returns:\n",
    "        train and test root mean square errors rmse = sqrt(2 mse)\n",
    "\n",
    "    >>> cross_validation(np.array([1.,2.,3.,4.]), np.array([6.,7.,8.,9.]), np.array([[3,2], [0,1]]), 1, 2, 3)\n",
    "    (0.019866645527597114, 0.33555914361295175)\n",
    "    \"\"\"\n",
    "\n",
    "    # ***************************************************\n",
    "    # get k'th subgroup in test, others in train\n",
    "\n",
    "    y_te = y[k_indices[k]] #takes the values of indexes and creates a y test \n",
    "    x_te = x[k_indices[k]] #takes the values of indexes and creates a x test\n",
    "        \n",
    "    \n",
    "    index_test = np.delete(k_indices,k , axis=0) #deletes the kth row of the k_indices array\n",
    "    y_tr = y[index_test]                    #the rest is in the training data \n",
    "    x_tr = x[index_test]\n",
    "   \n",
    "    # ***************************************************\n",
    "    # form data with polynomial degree\n",
    "    \n",
    "    poly_x_te = build_poly(x_te,degree)\n",
    "    poly_x_tr = []\n",
    "    \n",
    "    for ind, x_train in enumerate(x_tr):\n",
    "        poly_x_tr.append(build_poly(x_train,degree))\n",
    "\n",
    "    # ***************************************************       \n",
    "    # ridge regression: TODO\n",
    "    weights = [] \n",
    "    for ind,k_x in enumerate(poly_x_tr):                        \n",
    "        weights.append(ridge_regression(y_tr[ind],k_x,lambda_))\n",
    "    w = np.mean(weights,axis=0)\n",
    "    # ***************************************************\n",
    "    # calculate the loss for train and test data: TODO\n",
    "    \n",
    "    \n",
    "    # for ind, w in enumerate(weights):   \n",
    "    loss_te = np.sqrt(2*compute_mse(y_te,poly_x_te,w))\n",
    "    for ind,k_x in enumerate(poly_x_tr):\n",
    "        loss_tr =+ np.sqrt(2*compute_mse(y_tr[ind],k_x,w))\n",
    "    \n",
    "    # loss_te = loss_te/len(weights)\n",
    "    loss_tr = loss_tr/x_tr.shape[0]  \n",
    "    \n",
    "    # ***************************************************\n",
    "    return loss_tr, loss_te "
   ]
  },
  {
   "cell_type": "code",
   "execution_count": 14,
   "metadata": {},
   "outputs": [
    {
     "name": "stdout",
     "output_type": "stream",
     "text": [
      "✅ Your `cross_validation` passes some basic tests.\n"
     ]
    }
   ],
   "source": [
    "# can lead to a numerical error if you use an older version than Python 3.9 \n",
    "test(cross_validation)  "
   ]
  },
  {
   "cell_type": "code",
   "execution_count": 15,
   "metadata": {
    "scrolled": true
   },
   "outputs": [
    {
     "name": "stdout",
     "output_type": "stream",
     "text": [
      "For polynomial expansion up to degree 7, the choice of lambda which leads to the best test rmse is 0.07880 with a test rmse of 0.279\n"
     ]
    },
    {
     "data": {
      "image/png": "[encoded data removed]",
      "text/plain": [
       "<Figure size 432x288 with 1 Axes>"
      ]
     },
     "metadata": {
      "needs_background": "light"
     },
     "output_type": "display_data"
    }
   ],
   "source": [
    "from plots import cross_validation_visualization\n",
    "\n",
    "def cross_validation_demo(degree, k_fold, lambdas):\n",
    "    \"\"\"cross validation over regularisation parameter lambda.\n",
    "    \n",
    "    Args:\n",
    "        degree: integer, degree of the polynomial expansion\n",
    "        k_fold: integer, the number of folds\n",
    "        lambdas: shape = (p, ) where p is the number of values of lambda to test\n",
    "    Returns:\n",
    "        best_lambda : scalar, value of the best lambda\n",
    "        best_rmse : scalar, the associated root mean squared error for the best lambda\n",
    "    \"\"\"\n",
    "    \n",
    "    seed = 12\n",
    "    # degree = 7\n",
    "    # k_fold = 4\n",
    "    # lambdas = lambdas\n",
    "    # split data in k fold\n",
    "    k_indices = build_k_indices(y, k_fold, seed)\n",
    "    # define lists to store the loss of training data and test data\n",
    "    rmse_tr = []\n",
    "    rmse_te = []\n",
    "    # ***************************************************\n",
    "    # INSERT YOUR CODE HERE\n",
    "    #cross validation over lambdas\n",
    "    \n",
    "    for ind,lambda_ in enumerate(lambdas):\n",
    "        tr_e , te_e = cross_validation(y, x, k_indices, k_fold-1, lambda_, degree)\n",
    "        rmse_tr.append(tr_e)\n",
    "        rmse_te.append(te_e)\n",
    "    \n",
    "    # ***************************************************\n",
    "    #raise NotImplementedError    \n",
    "    ind_min = np.argmin(rmse_te)\n",
    "    best_rmse = rmse_te[ind_min]\n",
    "    best_lambda = lambdas[ind_min]\n",
    "    \n",
    "    cross_validation_visualization(lambdas, rmse_tr, rmse_te)\n",
    "    print(\"For polynomial expansion up to degree %.f, the choice of lambda which leads to the best test rmse is %.5f with a test rmse of %.3f\" % (degree, best_lambda, best_rmse))\n",
    "    return best_lambda, best_rmse\n",
    "\n",
    "\n",
    "best_lambda, best_rmse = cross_validation_demo(7, 4, np.logspace(-4, 0, 30))"
   ]
  },
  {
   "cell_type": "markdown",
   "metadata": {},
   "source": [
    "Your output should look like this for seed = 12, degree = 7 and k_fold = 4:\n",
    "\n",
    "![alt text](cross_validation2.png)"
   ]
  },
  {
   "cell_type": "markdown",
   "metadata": {},
   "source": [
    "You can play around with the number of folds and the degree of your polynomial expansion."
   ]
  },
  {
   "cell_type": "code",
   "execution_count": 10,
   "metadata": {},
   "outputs": [
    {
     "name": "stdout",
     "output_type": "stream",
     "text": [
      "For polynomial expansion up to degree 10, the choice of lambda which leads to the best test rmse is 0.01000 with a test rmse of 0.402\n"
     ]
    },
    {
     "data": {
      "image/png": "[encoded data removed]",
      "text/plain": [
       "<Figure size 432x288 with 1 Axes>"
      ]
     },
     "metadata": {
      "needs_background": "light"
     },
     "output_type": "display_data"
    }
   ],
   "source": [
    "best_lambda, best_rmse = cross_validation_demo(10, 4, np.logspace(-10, -2,  30))"
   ]
  },
  {
   "cell_type": "markdown",
   "metadata": {},
   "source": [
    "In the previous task we did a grid search over several values of $\\lambda$ for a fixed degree. We can also perform a grid search amongst $\\lambda$ and degrees simultaneously:"
   ]
  },
  {
   "cell_type": "code",
   "execution_count": 11,
   "metadata": {},
   "outputs": [],
   "source": [
    "def best_degree_selection(degrees, k_fold, lambdas, seed = 1):\n",
    "    \"\"\"cross validation over regularisation parameter lambda and degree.\n",
    "    \n",
    "    Args:\n",
    "        degrees: shape = (d,), where d is the number of degrees to test \n",
    "        k_fold: integer, the number of folds\n",
    "        lambdas: shape = (p, ) where p is the number of values of lambda to test\n",
    "    Returns:\n",
    "        best_degree : integer, value of the best degree\n",
    "        best_lambda : scalar, value of the best lambda\n",
    "        best_rmse : value of the rmse for the couple (best_degree, best_lambda)\n",
    "        \n",
    "    >>> best_degree_selection(np.arange(2,11), 4, np.logspace(-4, 0, 30))\n",
    "    (7, 0.004520353656360241, 0.28957280566456634)\n",
    "    \"\"\"\n",
    "    \n",
    "    # split data in k fold\n",
    "    k_indices = build_k_indices(y, k_fold, seed)\n",
    "    \n",
    "    # ***************************************************\n",
    "    # INSERT YOUR CODE HERE\n",
    "    # cross validation over degrees and lambdas: TODO\n",
    "    \n",
    "    rmse_te = []\n",
    "    rmse_tr = []\n",
    "       \n",
    "    for lambda_ in lambdas:\n",
    "        for degree in degrees:\n",
    "            tr_e, te_e = cross_validation(y, x, k_indices, k_fold-1, lambda_, degree)\n",
    "            \n",
    "    \n",
    "    # ***************************************************\n",
    "    raise NotImplementedError    \n",
    "    \n",
    "    return best_degree, best_lambda, best_rmse"
   ]
  },
  {
   "cell_type": "code",
   "execution_count": 12,
   "metadata": {},
   "outputs": [
    {
     "name": "stdout",
     "output_type": "stream",
     "text": [
      "❌ The are some issues with your implementation of `best_degree_selection`:\n",
      "**********************************************************************\n",
      "File \"__main__\", line 13, in best_degree_selection\n",
      "Failed example:\n",
      "    best_degree_selection(np.arange(2,11), 4, np.logspace(-4, 0, 30))\n",
      "Exception raised:\n",
      "    Traceback (most recent call last):\n",
      "      File \"c:\\Users\\hecma\\anaconda3\\lib\\doctest.py\", line 1334, in __run\n",
      "        exec(compile(example.source, filename, \"single\",\n",
      "      File \"<doctest best_degree_selection[0]>\", line 1, in <module>\n",
      "        best_degree_selection(np.arange(2,11), 4, np.logspace(-4, 0, 30))\n",
      "      File \"C:\\Users\\hecma\\AppData\\Local\\Temp\\ipykernel_30140\\95153442.py\", line 33, in best_degree_selection\n",
      "        raise NotImplementedError\n",
      "    NotImplementedError\n",
      "**********************************************************************\n"
     ]
    },
    {
     "ename": "NotImplementedError",
     "evalue": "",
     "output_type": "error",
     "traceback": [
      "\u001b[1;31m---------------------------------------------------------------------------\u001b[0m",
      "\u001b[1;31mNotImplementedError\u001b[0m                       Traceback (most recent call last)",
      "\u001b[1;32mc:\\Users\\hecma\\OneDrive\\Documentos\\GitHub\\ML_course\\labs\\ex04\\template\\ex04.ipynb Celda 17\u001b[0m in \u001b[0;36m<cell line: 4>\u001b[1;34m()\u001b[0m\n\u001b[0;32m      <a href='vscode-notebook-cell:/c%3A/Users/hecma/OneDrive/Documentos/GitHub/ML_course/labs/ex04/template/ex04.ipynb#X22sZmlsZQ%3D%3D?line=0'>1</a>\u001b[0m \u001b[39m# can lead to a numerical error if you use an older version than Python 3.9 \u001b[39;00m\n\u001b[0;32m      <a href='vscode-notebook-cell:/c%3A/Users/hecma/OneDrive/Documentos/GitHub/ML_course/labs/ex04/template/ex04.ipynb#X22sZmlsZQ%3D%3D?line=1'>2</a>\u001b[0m test(best_degree_selection)\n\u001b[1;32m----> <a href='vscode-notebook-cell:/c%3A/Users/hecma/OneDrive/Documentos/GitHub/ML_course/labs/ex04/template/ex04.ipynb#X22sZmlsZQ%3D%3D?line=3'>4</a>\u001b[0m best_degree, best_lambda, best_rmse \u001b[39m=\u001b[39m best_degree_selection(np\u001b[39m.\u001b[39;49marange(\u001b[39m2\u001b[39;49m,\u001b[39m11\u001b[39;49m), \u001b[39m4\u001b[39;49m, np\u001b[39m.\u001b[39;49mlogspace(\u001b[39m-\u001b[39;49m\u001b[39m4\u001b[39;49m, \u001b[39m0\u001b[39;49m, \u001b[39m30\u001b[39;49m))\n\u001b[0;32m      <a href='vscode-notebook-cell:/c%3A/Users/hecma/OneDrive/Documentos/GitHub/ML_course/labs/ex04/template/ex04.ipynb#X22sZmlsZQ%3D%3D?line=4'>5</a>\u001b[0m \u001b[39mprint\u001b[39m(\u001b[39m\"\u001b[39m\u001b[39mThe best rmse of \u001b[39m\u001b[39m%.3f\u001b[39;00m\u001b[39m is obtained for a degree of \u001b[39m\u001b[39m%\u001b[39m\u001b[39m.f and a lambda of \u001b[39m\u001b[39m%.5f\u001b[39;00m\u001b[39m.\u001b[39m\u001b[39m\"\u001b[39m \u001b[39m%\u001b[39m (best_rmse, best_degree, best_lambda))\n",
      "\u001b[1;32mc:\\Users\\hecma\\OneDrive\\Documentos\\GitHub\\ML_course\\labs\\ex04\\template\\ex04.ipynb Celda 17\u001b[0m in \u001b[0;36mbest_degree_selection\u001b[1;34m(degrees, k_fold, lambdas, seed)\u001b[0m\n\u001b[0;32m     <a href='vscode-notebook-cell:/c%3A/Users/hecma/OneDrive/Documentos/GitHub/ML_course/labs/ex04/template/ex04.ipynb#X22sZmlsZQ%3D%3D?line=28'>29</a>\u001b[0m         tr_e, te_e \u001b[39m=\u001b[39m cross_validation(y, x, k_indices, k_fold\u001b[39m-\u001b[39m\u001b[39m1\u001b[39m, lambda_, degree)\n\u001b[0;32m     <a href='vscode-notebook-cell:/c%3A/Users/hecma/OneDrive/Documentos/GitHub/ML_course/labs/ex04/template/ex04.ipynb#X22sZmlsZQ%3D%3D?line=31'>32</a>\u001b[0m \u001b[39m# ***************************************************\u001b[39;00m\n\u001b[1;32m---> <a href='vscode-notebook-cell:/c%3A/Users/hecma/OneDrive/Documentos/GitHub/ML_course/labs/ex04/template/ex04.ipynb#X22sZmlsZQ%3D%3D?line=32'>33</a>\u001b[0m \u001b[39mraise\u001b[39;00m \u001b[39mNotImplementedError\u001b[39;00m    \n\u001b[0;32m     <a href='vscode-notebook-cell:/c%3A/Users/hecma/OneDrive/Documentos/GitHub/ML_course/labs/ex04/template/ex04.ipynb#X22sZmlsZQ%3D%3D?line=34'>35</a>\u001b[0m \u001b[39mreturn\u001b[39;00m best_degree, best_lambda, best_rmse\n",
      "\u001b[1;31mNotImplementedError\u001b[0m: "
     ]
    }
   ],
   "source": [
    "# can lead to a numerical error if you use an older version than Python 3.9 \n",
    "test(best_degree_selection)\n",
    "\n",
    "best_degree, best_lambda, best_rmse = best_degree_selection(np.arange(2,11), 4, np.logspace(-4, 0, 30))\n",
    "print(\"The best rmse of %.3f is obtained for a degree of %.f and a lambda of %.5f.\" % (best_rmse, best_degree, best_lambda))"
   ]
  },
  {
   "cell_type": "markdown",
   "metadata": {},
   "source": [
    "## Bias-Variance Decomposition"
   ]
  },
  {
   "cell_type": "code",
   "execution_count": null,
   "metadata": {},
   "outputs": [],
   "source": [
    "#true function we want to learn\n",
    "def f_star(x):\n",
    "    return x**3 - x**2 + 0.5\n",
    "\n",
    "# plotting function for f_star\n",
    "def plot_fstar(ax):\n",
    "    xvals = np.arange(-1, 1, 0.01)\n",
    "    ax.plot(xvals, f_star(xvals),  linestyle = '--', color = 'k', label = 'f_star')\n",
    "    ax.set_ylim(-2, 2)"
   ]
  },
  {
   "cell_type": "code",
   "execution_count": null,
   "metadata": {},
   "outputs": [],
   "source": [
    "# helper plot function\n",
    "def plot_poly(x, y, weights, degree, ax, alpha = 0.3):\n",
    "    xvals = np.arange(-1, 1, 0.01)  \n",
    "    tx = build_poly(xvals, degree)\n",
    "    f = tx.dot(weights)\n",
    "    ax.plot(xvals, f, color = 'orange', alpha = alpha)\n",
    "    ax.scatter(x, y, color='b', alpha = alpha, s = 10) \n",
    "    ax.set_xlabel(\"x\")\n",
    "    ax.set_ylabel(\"y\")\n",
    "    ax.set_title(\"Polynomial degree \" + str(degree))\n",
    "    ax.set_ylim(-1, 2)\n",
    "\n",
    "# helper plot function \n",
    "def plot_f(weights, degree, ax, label = None):\n",
    "    xvals = np.arange(-1, 1, 0.01)\n",
    "    tx = build_poly(xvals, degree)\n",
    "    f = tx.dot(weights)\n",
    "    ax.plot(xvals, f, color = 'black', alpha = 1, label = label)\n",
    "    ax.set_ylim(-1, 2)"
   ]
  },
  {
   "cell_type": "markdown",
   "metadata": {},
   "source": [
    "Implement the following function: for 15 random datapoints, it finds the optimal fit (using the least square formula, with no regularisation λ) for a polynomial expansion of degree 1, 3 and 6."
   ]
  },
  {
   "cell_type": "code",
   "execution_count": null,
   "metadata": {},
   "outputs": [],
   "source": [
    "from least_squares import least_squares\n",
    "\n",
    "def bias_variance_one_seed(sigma, degrees, seed):\n",
    "    \"\"\"One run of the optimal fit for 15 random points and different polynomial expansion degrees.\n",
    "    \n",
    "    Args:\n",
    "        sigma: scalar, noise variance\n",
    "        degrees: shape = (3,), 3 different degrees to consider\n",
    "        seed: integer, random see\n",
    "    Returns:\n",
    "    \"\"\"\n",
    "    \n",
    "    \n",
    "    # we will generate 15 random datapoints from the [-1, 1] uniform distribuion\n",
    "    num_data = 15\n",
    "    np.random.seed(seed)  # set random seed for reproducibility\n",
    "    xs = np.random.uniform(-1, 1, num_data)\n",
    "    # the outputs will be f_star(x) + some random gaussian noise of variance sigma**2\n",
    "    ys = f_star(xs) + sigma * np.random.randn(num_data).T\n",
    "    \n",
    "    fig, axs = plt.subplots(1, 3, figsize = (20, 5))\n",
    "    for index_degree, degree in enumerate(degrees):\n",
    "        # ***************************************************\n",
    "        # INSERT YOUR CODE HERE\n",
    "        # ***************************************************\n",
    "    \n",
    "        plot_fstar(axs[index_degree])\n",
    "        axs[index_degree].legend()\n",
    "    plt.show()\n",
    "\n",
    "bias_variance_one_seed(0.1, [1, 3, 6], seed = 2)"
   ]
  },
  {
   "cell_type": "markdown",
   "metadata": {},
   "source": [
    "Your output should ressemble (for seed = 2) to this: \n",
    "![alt text](bias_variance_one_run.png)"
   ]
  },
  {
   "cell_type": "markdown",
   "metadata": {},
   "source": [
    "Now to illustrate the bias variance tradeoff we will repeat many times the previous experiment but using a different random seed each time. We also plot (in plain black) the mean of all the orange functions obtained."
   ]
  },
  {
   "cell_type": "code",
   "execution_count": null,
   "metadata": {},
   "outputs": [],
   "source": [
    "def bias_variance_demo(sigma, degrees):\n",
    "    \"\"\"Illustration of the bias-variance tradeoff.\n",
    "    \n",
    "    Args:\n",
    "        sigma: scalar, noise variance\n",
    "        degrees: shape = (3,), 3 different degrees to consider\n",
    "    Returns:\n",
    "    \"\"\"\n",
    "    # define parameters\n",
    "    seeds = range(400)  # number of runs\n",
    "    num_data = 15\n",
    "\n",
    "    \n",
    "    fig, axs = plt.subplots(1, 3, figsize = (20, 5))\n",
    "    for index_degree, degree in enumerate(degrees):\n",
    "        # ***************************************************\n",
    "        # INSERT YOUR CODE HERE\n",
    "        # ***************************************************\n",
    "    \n",
    "        plot_fstar(axs[index_degree])\n",
    "        axs[index_degree].legend()\n",
    "    plt.show()\n",
    "\n",
    "bias_variance_demo(0.1, [1, 3, 6])"
   ]
  },
  {
   "cell_type": "markdown",
   "metadata": {},
   "source": [
    "Your output should ressemble to this: \n",
    "![alt text](bias_variance.png)"
   ]
  }
 ],
 "metadata": {
  "anaconda-cloud": {},
  "kernelspec": {
   "display_name": "Python 3.9.12 ('base')",
   "language": "python",
   "name": "python3"
  },
  "language_info": {
   "codemirror_mode": {
    "name": "ipython",
    "version": 3
   },
   "file_extension": ".py",
   "mimetype": "text/x-python",
   "name": "python",
   "nbconvert_exporter": "python",
   "pygments_lexer": "ipython3",
   "version": "3.9.12"
  },
  "vscode": {
   "interpreter": {
    "hash": "02f5945d149b04c31ea982f93ee137d9e8cdf50633c2456cfcab8268279ed0d3"
   }
  }
 },
 "nbformat": 4,
 "nbformat_minor": 1
}
